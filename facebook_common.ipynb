{
  "nbformat": 4,
  "nbformat_minor": 0,
  "metadata": {
    "colab": {
      "name": "facebook_common.ipynb",
      "provenance": [],
      "collapsed_sections": [],
      "authorship_tag": "ABX9TyOpue3oeGedtru/yHoQTzW6",
      "include_colab_link": true
    },
    "kernelspec": {
      "name": "python3",
      "display_name": "Python 3"
    },
    "language_info": {
      "name": "python"
    }
  },
  "cells": [
    {
      "cell_type": "markdown",
      "metadata": {
        "id": "view-in-github",
        "colab_type": "text"
      },
      "source": [
        "<a href=\"https://colab.research.google.com/github/naveen-annap/fb_page_api/blob/main/facebook_common.ipynb\" target=\"_parent\"><img src=\"https://colab.research.google.com/assets/colab-badge.svg\" alt=\"Open In Colab\"/></a>"
      ]
    },
    {
      "cell_type": "code",
      "metadata": {
        "id": "rkRlCrU6q0VM"
      },
      "source": [
        "def init(gc);\n",
        "    sh=gc.open_by_key('13URfSKQv0kWgITiDX4bjJvcEgIHDrBzzCNbNWKHxv5E')\n",
        "    worksheet = sh.worksheet('config')\n",
        "    ids_tokens = sh.worksheet('id_token').get_all_records()\n",
        "    my_access_token = ids_tokens[0]['user_token']\n",
        "    return my_access_token\n",
        "\n",
        "\n",
        "def key_check(list_value, key_value1,key_value2 = None, key_value3 = None):\n",
        "    try:\n",
        "        if key_value3:\n",
        "            return list_value[key_value1][key_value2][key_value3]\n",
        "        elif key_value2:\n",
        "            return list_value[key_value1][key_value2]\n",
        "        else:\n",
        "            return list_value[key_value1]\n",
        "    except:\n",
        "        return '' \n",
        "\n",
        "def facebook_init():\n",
        "    FacebookAdsApi.init('1879913148894923', 'd7d70755ed2a001e629f6fea3a037c20', my_access_token)\n"
      ],
      "execution_count": null,
      "outputs": []
    }
  ]
}